{
 "cells": [
  {
   "cell_type": "code",
   "execution_count": 1,
   "id": "803f9e9b",
   "metadata": {
    "_cell_guid": "b1076dfc-b9ad-4769-8c92-a6c4dae69d19",
    "_uuid": "8f2839f25d086af736a60e9eeb907d3b93b6e0e5",
    "execution": {
     "iopub.execute_input": "2023-08-18T18:28:29.111631Z",
     "iopub.status.busy": "2023-08-18T18:28:29.111248Z",
     "iopub.status.idle": "2023-08-18T18:28:30.250791Z",
     "shell.execute_reply": "2023-08-18T18:28:30.249762Z"
    },
    "papermill": {
     "duration": 1.146646,
     "end_time": "2023-08-18T18:28:30.253515",
     "exception": false,
     "start_time": "2023-08-18T18:28:29.106869",
     "status": "completed"
    },
    "tags": []
   },
   "outputs": [
    {
     "name": "stderr",
     "output_type": "stream",
     "text": [
      "/opt/conda/lib/python3.10/site-packages/scipy/__init__.py:146: UserWarning: A NumPy version >=1.16.5 and <1.23.0 is required for this version of SciPy (detected version 1.23.5\n",
      "  warnings.warn(f\"A NumPy version >={np_minversion} and <{np_maxversion}\"\n"
     ]
    }
   ],
   "source": [
    "from mpl_toolkits.mplot3d import Axes3D\n",
    "from sklearn.preprocessing import StandardScaler\n",
    "\n",
    "import matplotlib.pyplot as plt # plotting\n",
    "import matplotlib.image as mpimg\n",
    "\n",
    "import numpy as np # linear algebra\n",
    "import pandas as pd # data processing, CSV file I/O (e.g. pd.read_csv)\n",
    "\n",
    "import os # accessing directory structure"
   ]
  },
  {
   "cell_type": "code",
   "execution_count": 2,
   "id": "a98fd3a5",
   "metadata": {
    "execution": {
     "iopub.execute_input": "2023-08-18T18:28:30.260027Z",
     "iopub.status.busy": "2023-08-18T18:28:30.259609Z",
     "iopub.status.idle": "2023-08-18T18:28:30.271858Z",
     "shell.execute_reply": "2023-08-18T18:28:30.270424Z"
    },
    "papermill": {
     "duration": 0.018425,
     "end_time": "2023-08-18T18:28:30.274430",
     "exception": false,
     "start_time": "2023-08-18T18:28:30.256005",
     "status": "completed"
    },
    "tags": []
   },
   "outputs": [
    {
     "name": "stdout",
     "output_type": "stream",
     "text": [
      "['images', 'styles.csv']\n"
     ]
    }
   ],
   "source": [
    "DATASET_PATH = \"/kaggle/input/myntradataset/\"\n",
    "DATASET_PATH = \"/kaggle/input/fashion-product-images-small/myntradataset/\"\n",
    "print(os.listdir(DATASET_PATH))"
   ]
  },
  {
   "cell_type": "code",
   "execution_count": 3,
   "id": "021718b1",
   "metadata": {
    "execution": {
     "iopub.execute_input": "2023-08-18T18:28:30.281052Z",
     "iopub.status.busy": "2023-08-18T18:28:30.280639Z",
     "iopub.status.idle": "2023-08-18T18:28:30.400286Z",
     "shell.execute_reply": "2023-08-18T18:28:30.398997Z"
    },
    "papermill": {
     "duration": 0.126188,
     "end_time": "2023-08-18T18:28:30.402934",
     "exception": false,
     "start_time": "2023-08-18T18:28:30.276746",
     "status": "completed"
    },
    "tags": []
   },
   "outputs": [
    {
     "name": "stderr",
     "output_type": "stream",
     "text": [
      "/tmp/ipykernel_20/2163862645.py:1: FutureWarning: The error_bad_lines argument has been deprecated and will be removed in a future version. Use on_bad_lines in the future.\n",
      "\n",
      "\n",
      "  df = pd.read_csv(DATASET_PATH + \"styles.csv\", nrows=5000, error_bad_lines=False)\n"
     ]
    },
    {
     "data": {
      "text/html": [
       "<div>\n",
       "<style scoped>\n",
       "    .dataframe tbody tr th:only-of-type {\n",
       "        vertical-align: middle;\n",
       "    }\n",
       "\n",
       "    .dataframe tbody tr th {\n",
       "        vertical-align: top;\n",
       "    }\n",
       "\n",
       "    .dataframe thead th {\n",
       "        text-align: right;\n",
       "    }\n",
       "</style>\n",
       "<table border=\"1\" class=\"dataframe\">\n",
       "  <thead>\n",
       "    <tr style=\"text-align: right;\">\n",
       "      <th></th>\n",
       "      <th>id</th>\n",
       "      <th>gender</th>\n",
       "      <th>masterCategory</th>\n",
       "      <th>subCategory</th>\n",
       "      <th>articleType</th>\n",
       "      <th>baseColour</th>\n",
       "      <th>season</th>\n",
       "      <th>year</th>\n",
       "      <th>usage</th>\n",
       "      <th>productDisplayName</th>\n",
       "      <th>image</th>\n",
       "    </tr>\n",
       "  </thead>\n",
       "  <tbody>\n",
       "    <tr>\n",
       "      <th>0</th>\n",
       "      <td>38467</td>\n",
       "      <td>Women</td>\n",
       "      <td>Accessories</td>\n",
       "      <td>Wallets</td>\n",
       "      <td>Wallets</td>\n",
       "      <td>Purple</td>\n",
       "      <td>Summer</td>\n",
       "      <td>2012</td>\n",
       "      <td>Casual</td>\n",
       "      <td>Baggit Women Purple Wallet</td>\n",
       "      <td>38467.jpg</td>\n",
       "    </tr>\n",
       "    <tr>\n",
       "      <th>1</th>\n",
       "      <td>2610</td>\n",
       "      <td>Women</td>\n",
       "      <td>Footwear</td>\n",
       "      <td>Shoes</td>\n",
       "      <td>Heels</td>\n",
       "      <td>Black</td>\n",
       "      <td>Winter</td>\n",
       "      <td>2012</td>\n",
       "      <td>Casual</td>\n",
       "      <td>Carlton London Women Stylish Black Flats</td>\n",
       "      <td>2610.jpg</td>\n",
       "    </tr>\n",
       "    <tr>\n",
       "      <th>2</th>\n",
       "      <td>38601</td>\n",
       "      <td>Men</td>\n",
       "      <td>Apparel</td>\n",
       "      <td>Topwear</td>\n",
       "      <td>Tshirts</td>\n",
       "      <td>Red</td>\n",
       "      <td>Summer</td>\n",
       "      <td>2012</td>\n",
       "      <td>Casual</td>\n",
       "      <td>Nike Men Printed Red T-shirt</td>\n",
       "      <td>38601.jpg</td>\n",
       "    </tr>\n",
       "    <tr>\n",
       "      <th>3</th>\n",
       "      <td>7195</td>\n",
       "      <td>Women</td>\n",
       "      <td>Apparel</td>\n",
       "      <td>Topwear</td>\n",
       "      <td>Tops</td>\n",
       "      <td>White</td>\n",
       "      <td>Fall</td>\n",
       "      <td>2011</td>\n",
       "      <td>Casual</td>\n",
       "      <td>Jealous 21 Women Knit Butterfly Print White Top</td>\n",
       "      <td>7195.jpg</td>\n",
       "    </tr>\n",
       "    <tr>\n",
       "      <th>4</th>\n",
       "      <td>8913</td>\n",
       "      <td>Men</td>\n",
       "      <td>Footwear</td>\n",
       "      <td>Shoes</td>\n",
       "      <td>Sports Shoes</td>\n",
       "      <td>White</td>\n",
       "      <td>Fall</td>\n",
       "      <td>2011</td>\n",
       "      <td>Sports</td>\n",
       "      <td>Puma Men Cabana Racer Sketch White Sports Shoes</td>\n",
       "      <td>8913.jpg</td>\n",
       "    </tr>\n",
       "    <tr>\n",
       "      <th>5</th>\n",
       "      <td>7363</td>\n",
       "      <td>Men</td>\n",
       "      <td>Footwear</td>\n",
       "      <td>Shoes</td>\n",
       "      <td>Formal Shoes</td>\n",
       "      <td>Black</td>\n",
       "      <td>Winter</td>\n",
       "      <td>2018</td>\n",
       "      <td>Formal</td>\n",
       "      <td>Red Tape Men Black Semi Formal Shoes</td>\n",
       "      <td>7363.jpg</td>\n",
       "    </tr>\n",
       "    <tr>\n",
       "      <th>6</th>\n",
       "      <td>16138</td>\n",
       "      <td>Women</td>\n",
       "      <td>Apparel</td>\n",
       "      <td>Topwear</td>\n",
       "      <td>Tshirts</td>\n",
       "      <td>Grey</td>\n",
       "      <td>Fall</td>\n",
       "      <td>2011</td>\n",
       "      <td>Casual</td>\n",
       "      <td>Tokyo Talkies Women Printed Grey Top</td>\n",
       "      <td>16138.jpg</td>\n",
       "    </tr>\n",
       "    <tr>\n",
       "      <th>7</th>\n",
       "      <td>29727</td>\n",
       "      <td>Women</td>\n",
       "      <td>Accessories</td>\n",
       "      <td>Bags</td>\n",
       "      <td>Handbags</td>\n",
       "      <td>Green</td>\n",
       "      <td>Summer</td>\n",
       "      <td>2012</td>\n",
       "      <td>Casual</td>\n",
       "      <td>Kiara Women Leatherette Light Green Handbag</td>\n",
       "      <td>29727.jpg</td>\n",
       "    </tr>\n",
       "    <tr>\n",
       "      <th>8</th>\n",
       "      <td>16993</td>\n",
       "      <td>Women</td>\n",
       "      <td>Accessories</td>\n",
       "      <td>Belts</td>\n",
       "      <td>Belts</td>\n",
       "      <td>Silver</td>\n",
       "      <td>Summer</td>\n",
       "      <td>2011</td>\n",
       "      <td>Casual</td>\n",
       "      <td>Puma Women Dizzy  Silver Belt</td>\n",
       "      <td>16993.jpg</td>\n",
       "    </tr>\n",
       "    <tr>\n",
       "      <th>9</th>\n",
       "      <td>52812</td>\n",
       "      <td>Men</td>\n",
       "      <td>Accessories</td>\n",
       "      <td>Wallets</td>\n",
       "      <td>Wallets</td>\n",
       "      <td>Black</td>\n",
       "      <td>Summer</td>\n",
       "      <td>2012</td>\n",
       "      <td>Casual</td>\n",
       "      <td>JAG Men Black Leather Wallet</td>\n",
       "      <td>52812.jpg</td>\n",
       "    </tr>\n",
       "  </tbody>\n",
       "</table>\n",
       "</div>"
      ],
      "text/plain": [
       "      id gender masterCategory subCategory   articleType baseColour  season  \\\n",
       "0  38467  Women    Accessories     Wallets       Wallets     Purple  Summer   \n",
       "1   2610  Women       Footwear       Shoes         Heels      Black  Winter   \n",
       "2  38601    Men        Apparel     Topwear       Tshirts        Red  Summer   \n",
       "3   7195  Women        Apparel     Topwear          Tops      White    Fall   \n",
       "4   8913    Men       Footwear       Shoes  Sports Shoes      White    Fall   \n",
       "5   7363    Men       Footwear       Shoes  Formal Shoes      Black  Winter   \n",
       "6  16138  Women        Apparel     Topwear       Tshirts       Grey    Fall   \n",
       "7  29727  Women    Accessories        Bags      Handbags      Green  Summer   \n",
       "8  16993  Women    Accessories       Belts         Belts     Silver  Summer   \n",
       "9  52812    Men    Accessories     Wallets       Wallets      Black  Summer   \n",
       "\n",
       "   year   usage                               productDisplayName      image  \n",
       "0  2012  Casual                       Baggit Women Purple Wallet  38467.jpg  \n",
       "1  2012  Casual         Carlton London Women Stylish Black Flats   2610.jpg  \n",
       "2  2012  Casual                     Nike Men Printed Red T-shirt  38601.jpg  \n",
       "3  2011  Casual  Jealous 21 Women Knit Butterfly Print White Top   7195.jpg  \n",
       "4  2011  Sports  Puma Men Cabana Racer Sketch White Sports Shoes   8913.jpg  \n",
       "5  2018  Formal             Red Tape Men Black Semi Formal Shoes   7363.jpg  \n",
       "6  2011  Casual             Tokyo Talkies Women Printed Grey Top  16138.jpg  \n",
       "7  2012  Casual      Kiara Women Leatherette Light Green Handbag  29727.jpg  \n",
       "8  2011  Casual                    Puma Women Dizzy  Silver Belt  16993.jpg  \n",
       "9  2012  Casual                     JAG Men Black Leather Wallet  52812.jpg  "
      ]
     },
     "execution_count": 3,
     "metadata": {},
     "output_type": "execute_result"
    }
   ],
   "source": [
    "df = pd.read_csv(DATASET_PATH + \"styles.csv\", nrows=5000, error_bad_lines=False)\n",
    "df['image'] = df.apply(lambda row: str(row['id']) + \".jpg\", axis=1)\n",
    "df = df.sample(frac=1).reset_index(drop=True)\n",
    "df.head(10)"
   ]
  },
  {
   "cell_type": "code",
   "execution_count": null,
   "id": "cfa52199",
   "metadata": {
    "papermill": {
     "duration": 0.002375,
     "end_time": "2023-08-18T18:28:30.408020",
     "exception": false,
     "start_time": "2023-08-18T18:28:30.405645",
     "status": "completed"
    },
    "tags": []
   },
   "outputs": [],
   "source": []
  }
 ],
 "metadata": {
  "kernelspec": {
   "display_name": "Python 3",
   "language": "python",
   "name": "python3"
  },
  "language_info": {
   "codemirror_mode": {
    "name": "ipython",
    "version": 3
   },
   "file_extension": ".py",
   "mimetype": "text/x-python",
   "name": "python",
   "nbconvert_exporter": "python",
   "pygments_lexer": "ipython3",
   "version": "3.10.12"
  },
  "papermill": {
   "default_parameters": {},
   "duration": 13.693239,
   "end_time": "2023-08-18T18:28:31.332618",
   "environment_variables": {},
   "exception": null,
   "input_path": "__notebook__.ipynb",
   "output_path": "__notebook__.ipynb",
   "parameters": {},
   "start_time": "2023-08-18T18:28:17.639379",
   "version": "2.4.0"
  }
 },
 "nbformat": 4,
 "nbformat_minor": 5
}
