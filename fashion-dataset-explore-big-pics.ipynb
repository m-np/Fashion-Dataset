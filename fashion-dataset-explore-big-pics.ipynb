{
 "cells": [
  {
   "cell_type": "code",
   "execution_count": 1,
   "id": "58fdf988",
   "metadata": {
    "_cell_guid": "b1076dfc-b9ad-4769-8c92-a6c4dae69d19",
    "_uuid": "8f2839f25d086af736a60e9eeb907d3b93b6e0e5",
    "execution": {
     "iopub.execute_input": "2023-08-20T14:32:27.366482Z",
     "iopub.status.busy": "2023-08-20T14:32:27.366030Z",
     "iopub.status.idle": "2023-08-20T14:32:27.380239Z",
     "shell.execute_reply": "2023-08-20T14:32:27.378939Z"
    },
    "papermill": {
     "duration": 0.025394,
     "end_time": "2023-08-20T14:32:27.383293",
     "exception": false,
     "start_time": "2023-08-20T14:32:27.357899",
     "status": "completed"
    },
    "tags": []
   },
   "outputs": [],
   "source": [
    "# This Python 3 environment comes with many helpful analytics libraries installed\n",
    "# It is defined by the kaggle/python Docker image: https://github.com/kaggle/docker-python\n",
    "# For example, here's several helpful packages to load\n",
    "\n",
    "import numpy as np # linear algebra\n",
    "import pandas as pd # data processing, CSV file I/O (e.g. pd.read_csv)\n",
    "\n",
    "# Input data files are available in the read-only \"../input/\" directory\n",
    "# For example, running this (by clicking run or pressing Shift+Enter) will list all files under the input directory\n",
    "\n",
    "import os\n",
    "# for dirname, _, filenames in os.walk('/kaggle/input'):\n",
    "#     for filename in filenames:\n",
    "#         print(os.path.join(dirname, filename))\n",
    "#         break\n",
    "\n",
    "# You can write up to 20GB to the current directory (/kaggle/working/) that gets preserved as output when you create a version using \"Save & Run All\" \n",
    "# You can also write temporary files to /kaggle/temp/, but they won't be saved outside of the current session"
   ]
  },
  {
   "cell_type": "code",
   "execution_count": 2,
   "id": "37454549",
   "metadata": {
    "execution": {
     "iopub.execute_input": "2023-08-20T14:32:27.396587Z",
     "iopub.status.busy": "2023-08-20T14:32:27.396168Z",
     "iopub.status.idle": "2023-08-20T14:32:27.807234Z",
     "shell.execute_reply": "2023-08-20T14:32:27.805403Z"
    },
    "papermill": {
     "duration": 0.421039,
     "end_time": "2023-08-20T14:32:27.810261",
     "exception": false,
     "start_time": "2023-08-20T14:32:27.389222",
     "status": "completed"
    },
    "tags": []
   },
   "outputs": [],
   "source": [
    "MAIN_DIR = '/kaggle/input/fashion-product-images-dataset/fashion-dataset/'\n",
    "images_df = pd.read_csv(MAIN_DIR+'images.csv')\n",
    "styles_df = pd.read_csv(MAIN_DIR+'styles.csv', on_bad_lines='skip')"
   ]
  },
  {
   "cell_type": "code",
   "execution_count": 3,
   "id": "57ec1f38",
   "metadata": {
    "execution": {
     "iopub.execute_input": "2023-08-20T14:32:27.823448Z",
     "iopub.status.busy": "2023-08-20T14:32:27.822981Z",
     "iopub.status.idle": "2023-08-20T14:32:27.856147Z",
     "shell.execute_reply": "2023-08-20T14:32:27.854531Z"
    },
    "papermill": {
     "duration": 0.043897,
     "end_time": "2023-08-20T14:32:27.859742",
     "exception": false,
     "start_time": "2023-08-20T14:32:27.815845",
     "status": "completed"
    },
    "tags": []
   },
   "outputs": [
    {
     "data": {
      "text/html": [
       "<div>\n",
       "<style scoped>\n",
       "    .dataframe tbody tr th:only-of-type {\n",
       "        vertical-align: middle;\n",
       "    }\n",
       "\n",
       "    .dataframe tbody tr th {\n",
       "        vertical-align: top;\n",
       "    }\n",
       "\n",
       "    .dataframe thead th {\n",
       "        text-align: right;\n",
       "    }\n",
       "</style>\n",
       "<table border=\"1\" class=\"dataframe\">\n",
       "  <thead>\n",
       "    <tr style=\"text-align: right;\">\n",
       "      <th></th>\n",
       "      <th>id</th>\n",
       "      <th>gender</th>\n",
       "      <th>masterCategory</th>\n",
       "      <th>subCategory</th>\n",
       "      <th>articleType</th>\n",
       "      <th>baseColour</th>\n",
       "      <th>season</th>\n",
       "      <th>year</th>\n",
       "      <th>usage</th>\n",
       "      <th>productDisplayName</th>\n",
       "    </tr>\n",
       "  </thead>\n",
       "  <tbody>\n",
       "    <tr>\n",
       "      <th>0</th>\n",
       "      <td>15970</td>\n",
       "      <td>Men</td>\n",
       "      <td>Apparel</td>\n",
       "      <td>Topwear</td>\n",
       "      <td>Shirts</td>\n",
       "      <td>Navy Blue</td>\n",
       "      <td>Fall</td>\n",
       "      <td>2011.0</td>\n",
       "      <td>Casual</td>\n",
       "      <td>Turtle Check Men Navy Blue Shirt</td>\n",
       "    </tr>\n",
       "    <tr>\n",
       "      <th>1</th>\n",
       "      <td>39386</td>\n",
       "      <td>Men</td>\n",
       "      <td>Apparel</td>\n",
       "      <td>Bottomwear</td>\n",
       "      <td>Jeans</td>\n",
       "      <td>Blue</td>\n",
       "      <td>Summer</td>\n",
       "      <td>2012.0</td>\n",
       "      <td>Casual</td>\n",
       "      <td>Peter England Men Party Blue Jeans</td>\n",
       "    </tr>\n",
       "    <tr>\n",
       "      <th>2</th>\n",
       "      <td>59263</td>\n",
       "      <td>Women</td>\n",
       "      <td>Accessories</td>\n",
       "      <td>Watches</td>\n",
       "      <td>Watches</td>\n",
       "      <td>Silver</td>\n",
       "      <td>Winter</td>\n",
       "      <td>2016.0</td>\n",
       "      <td>Casual</td>\n",
       "      <td>Titan Women Silver Watch</td>\n",
       "    </tr>\n",
       "    <tr>\n",
       "      <th>3</th>\n",
       "      <td>21379</td>\n",
       "      <td>Men</td>\n",
       "      <td>Apparel</td>\n",
       "      <td>Bottomwear</td>\n",
       "      <td>Track Pants</td>\n",
       "      <td>Black</td>\n",
       "      <td>Fall</td>\n",
       "      <td>2011.0</td>\n",
       "      <td>Casual</td>\n",
       "      <td>Manchester United Men Solid Black Track Pants</td>\n",
       "    </tr>\n",
       "    <tr>\n",
       "      <th>4</th>\n",
       "      <td>53759</td>\n",
       "      <td>Men</td>\n",
       "      <td>Apparel</td>\n",
       "      <td>Topwear</td>\n",
       "      <td>Tshirts</td>\n",
       "      <td>Grey</td>\n",
       "      <td>Summer</td>\n",
       "      <td>2012.0</td>\n",
       "      <td>Casual</td>\n",
       "      <td>Puma Men Grey T-shirt</td>\n",
       "    </tr>\n",
       "  </tbody>\n",
       "</table>\n",
       "</div>"
      ],
      "text/plain": [
       "      id gender masterCategory subCategory  articleType baseColour  season  \\\n",
       "0  15970    Men        Apparel     Topwear       Shirts  Navy Blue    Fall   \n",
       "1  39386    Men        Apparel  Bottomwear        Jeans       Blue  Summer   \n",
       "2  59263  Women    Accessories     Watches      Watches     Silver  Winter   \n",
       "3  21379    Men        Apparel  Bottomwear  Track Pants      Black    Fall   \n",
       "4  53759    Men        Apparel     Topwear      Tshirts       Grey  Summer   \n",
       "\n",
       "     year   usage                             productDisplayName  \n",
       "0  2011.0  Casual               Turtle Check Men Navy Blue Shirt  \n",
       "1  2012.0  Casual             Peter England Men Party Blue Jeans  \n",
       "2  2016.0  Casual                       Titan Women Silver Watch  \n",
       "3  2011.0  Casual  Manchester United Men Solid Black Track Pants  \n",
       "4  2012.0  Casual                          Puma Men Grey T-shirt  "
      ]
     },
     "execution_count": 3,
     "metadata": {},
     "output_type": "execute_result"
    }
   ],
   "source": [
    "styles_df.head()"
   ]
  },
  {
   "cell_type": "code",
   "execution_count": 4,
   "id": "1c02434d",
   "metadata": {
    "execution": {
     "iopub.execute_input": "2023-08-20T14:32:27.873418Z",
     "iopub.status.busy": "2023-08-20T14:32:27.872972Z",
     "iopub.status.idle": "2023-08-20T14:32:27.890692Z",
     "shell.execute_reply": "2023-08-20T14:32:27.889266Z"
    },
    "papermill": {
     "duration": 0.027782,
     "end_time": "2023-08-20T14:32:27.893505",
     "exception": false,
     "start_time": "2023-08-20T14:32:27.865723",
     "status": "completed"
    },
    "tags": []
   },
   "outputs": [
    {
     "data": {
      "text/plain": [
       "array(['Shirts', 'Jeans', 'Watches', 'Track Pants', 'Tshirts', 'Socks',\n",
       "       'Casual Shoes', 'Belts', 'Flip Flops', 'Handbags', 'Tops', 'Bra',\n",
       "       'Sandals', 'Shoe Accessories', 'Sweatshirts', 'Deodorant',\n",
       "       'Formal Shoes', 'Bracelet', 'Lipstick', 'Flats', 'Kurtas',\n",
       "       'Waistcoat', 'Sports Shoes', 'Shorts', 'Briefs', 'Sarees',\n",
       "       'Perfume and Body Mist', 'Heels', 'Sunglasses', 'Innerwear Vests',\n",
       "       'Pendant', 'Nail Polish', 'Laptop Bag', 'Scarves', 'Rain Jacket',\n",
       "       'Dresses', 'Night suits', 'Skirts', 'Wallets', 'Blazers', 'Ring',\n",
       "       'Kurta Sets', 'Clutches', 'Shrug', 'Backpacks', 'Caps', 'Trousers',\n",
       "       'Earrings', 'Camisoles', 'Boxers', 'Jewellery Set', 'Dupatta',\n",
       "       'Capris', 'Lip Gloss', 'Bath Robe', 'Mufflers', 'Tunics',\n",
       "       'Jackets', 'Trunk', 'Lounge Pants', 'Face Wash and Cleanser',\n",
       "       'Necklace and Chains', 'Duffel Bag', 'Sports Sandals',\n",
       "       'Foundation and Primer', 'Sweaters', 'Free Gifts', 'Trolley Bag',\n",
       "       'Tracksuits', 'Swimwear', 'Shoe Laces', 'Fragrance Gift Set',\n",
       "       'Bangle', 'Nightdress', 'Ties', 'Baby Dolls', 'Leggings',\n",
       "       'Highlighter and Blush', 'Travel Accessory', 'Kurtis',\n",
       "       'Mobile Pouch', 'Messenger Bag', 'Lip Care', 'Face Moisturisers',\n",
       "       'Compact', 'Eye Cream', 'Accessory Gift Set', 'Beauty Accessory',\n",
       "       'Jumpsuit', 'Kajal and Eyeliner', 'Water Bottle', 'Suspenders',\n",
       "       'Lip Liner', 'Robe', 'Salwar and Dupatta', 'Patiala', 'Stockings',\n",
       "       'Eyeshadow', 'Headband', 'Tights', 'Nail Essentials', 'Churidar',\n",
       "       'Lounge Tshirts', 'Face Scrub and Exfoliator', 'Lounge Shorts',\n",
       "       'Gloves', 'Mask and Peel', 'Wristbands', 'Tablet Sleeve',\n",
       "       'Ties and Cufflinks', 'Footballs', 'Stoles', 'Shapewear',\n",
       "       'Nehru Jackets', 'Salwar', 'Cufflinks', 'Jeggings', 'Hair Colour',\n",
       "       'Concealer', 'Rompers', 'Body Lotion', 'Sunscreen', 'Booties',\n",
       "       'Waist Pouch', 'Hair Accessory', 'Rucksacks', 'Basketballs',\n",
       "       'Lehenga Choli', 'Clothing Set', 'Mascara', 'Toner',\n",
       "       'Cushion Covers', 'Key chain', 'Makeup Remover', 'Lip Plumper',\n",
       "       'Umbrellas', 'Face Serum and Gel', 'Hat', 'Mens Grooming Kit',\n",
       "       'Rain Trousers', 'Body Wash and Scrub', 'Suits', 'Ipad'],\n",
       "      dtype=object)"
      ]
     },
     "execution_count": 4,
     "metadata": {},
     "output_type": "execute_result"
    }
   ],
   "source": [
    "styles_df.articleType.unique()"
   ]
  },
  {
   "cell_type": "code",
   "execution_count": 5,
   "id": "3deb926e",
   "metadata": {
    "execution": {
     "iopub.execute_input": "2023-08-20T14:32:27.908460Z",
     "iopub.status.busy": "2023-08-20T14:32:27.907954Z",
     "iopub.status.idle": "2023-08-20T14:32:27.955720Z",
     "shell.execute_reply": "2023-08-20T14:32:27.954288Z"
    },
    "papermill": {
     "duration": 0.058872,
     "end_time": "2023-08-20T14:32:27.958712",
     "exception": false,
     "start_time": "2023-08-20T14:32:27.899840",
     "status": "completed"
    },
    "tags": []
   },
   "outputs": [
    {
     "data": {
      "text/html": [
       "<div>\n",
       "<style scoped>\n",
       "    .dataframe tbody tr th:only-of-type {\n",
       "        vertical-align: middle;\n",
       "    }\n",
       "\n",
       "    .dataframe tbody tr th {\n",
       "        vertical-align: top;\n",
       "    }\n",
       "\n",
       "    .dataframe thead th {\n",
       "        text-align: right;\n",
       "    }\n",
       "</style>\n",
       "<table border=\"1\" class=\"dataframe\">\n",
       "  <thead>\n",
       "    <tr style=\"text-align: right;\">\n",
       "      <th></th>\n",
       "      <th>id</th>\n",
       "      <th>gender</th>\n",
       "      <th>masterCategory</th>\n",
       "      <th>subCategory</th>\n",
       "      <th>articleType</th>\n",
       "      <th>baseColour</th>\n",
       "      <th>season</th>\n",
       "      <th>year</th>\n",
       "      <th>usage</th>\n",
       "      <th>productDisplayName</th>\n",
       "    </tr>\n",
       "  </thead>\n",
       "  <tbody>\n",
       "    <tr>\n",
       "      <th>33</th>\n",
       "      <td>39988</td>\n",
       "      <td>Men</td>\n",
       "      <td>Footwear</td>\n",
       "      <td>Shoes</td>\n",
       "      <td>Casual Shoes</td>\n",
       "      <td>White</td>\n",
       "      <td>Winter</td>\n",
       "      <td>2014.0</td>\n",
       "      <td>Casual</td>\n",
       "      <td>Gas Men Europa White Shoes</td>\n",
       "    </tr>\n",
       "    <tr>\n",
       "      <th>102</th>\n",
       "      <td>19311</td>\n",
       "      <td>Men</td>\n",
       "      <td>Footwear</td>\n",
       "      <td>Shoes</td>\n",
       "      <td>Casual Shoes</td>\n",
       "      <td>White</td>\n",
       "      <td>Fall</td>\n",
       "      <td>2011.0</td>\n",
       "      <td>Casual</td>\n",
       "      <td>Nike Men Air Rift MTR White Casual Shoe</td>\n",
       "    </tr>\n",
       "    <tr>\n",
       "      <th>155</th>\n",
       "      <td>24250</td>\n",
       "      <td>Men</td>\n",
       "      <td>Footwear</td>\n",
       "      <td>Shoes</td>\n",
       "      <td>Casual Shoes</td>\n",
       "      <td>White</td>\n",
       "      <td>Fall</td>\n",
       "      <td>2012.0</td>\n",
       "      <td>Casual</td>\n",
       "      <td>Numero Uno Men White Casual Shoes</td>\n",
       "    </tr>\n",
       "    <tr>\n",
       "      <th>252</th>\n",
       "      <td>22705</td>\n",
       "      <td>Men</td>\n",
       "      <td>Footwear</td>\n",
       "      <td>Shoes</td>\n",
       "      <td>Casual Shoes</td>\n",
       "      <td>White</td>\n",
       "      <td>Fall</td>\n",
       "      <td>2011.0</td>\n",
       "      <td>Casual</td>\n",
       "      <td>Nike Men White Capri II Casual Shoe</td>\n",
       "    </tr>\n",
       "    <tr>\n",
       "      <th>627</th>\n",
       "      <td>30233</td>\n",
       "      <td>Men</td>\n",
       "      <td>Footwear</td>\n",
       "      <td>Shoes</td>\n",
       "      <td>Casual Shoes</td>\n",
       "      <td>White</td>\n",
       "      <td>Summer</td>\n",
       "      <td>2012.0</td>\n",
       "      <td>Casual</td>\n",
       "      <td>Numero Uno Men White Shoes</td>\n",
       "    </tr>\n",
       "    <tr>\n",
       "      <th>...</th>\n",
       "      <td>...</td>\n",
       "      <td>...</td>\n",
       "      <td>...</td>\n",
       "      <td>...</td>\n",
       "      <td>...</td>\n",
       "      <td>...</td>\n",
       "      <td>...</td>\n",
       "      <td>...</td>\n",
       "      <td>...</td>\n",
       "      <td>...</td>\n",
       "    </tr>\n",
       "    <tr>\n",
       "      <th>44250</th>\n",
       "      <td>41445</td>\n",
       "      <td>Men</td>\n",
       "      <td>Footwear</td>\n",
       "      <td>Shoes</td>\n",
       "      <td>Casual Shoes</td>\n",
       "      <td>White</td>\n",
       "      <td>Summer</td>\n",
       "      <td>2012.0</td>\n",
       "      <td>Casual</td>\n",
       "      <td>Lee Cooper Men White Lifestyle Shoes</td>\n",
       "    </tr>\n",
       "    <tr>\n",
       "      <th>44317</th>\n",
       "      <td>44761</td>\n",
       "      <td>Men</td>\n",
       "      <td>Footwear</td>\n",
       "      <td>Shoes</td>\n",
       "      <td>Casual Shoes</td>\n",
       "      <td>White</td>\n",
       "      <td>Summer</td>\n",
       "      <td>2012.0</td>\n",
       "      <td>Casual</td>\n",
       "      <td>Globalite Men White Court Shoes</td>\n",
       "    </tr>\n",
       "    <tr>\n",
       "      <th>44374</th>\n",
       "      <td>24670</td>\n",
       "      <td>Unisex</td>\n",
       "      <td>Footwear</td>\n",
       "      <td>Shoes</td>\n",
       "      <td>Casual Shoes</td>\n",
       "      <td>White</td>\n",
       "      <td>Fall</td>\n",
       "      <td>2010.0</td>\n",
       "      <td>Casual</td>\n",
       "      <td>Converse Unisex Floral Print Casual Shoes</td>\n",
       "    </tr>\n",
       "    <tr>\n",
       "      <th>44385</th>\n",
       "      <td>6653</td>\n",
       "      <td>Men</td>\n",
       "      <td>Footwear</td>\n",
       "      <td>Shoes</td>\n",
       "      <td>Casual Shoes</td>\n",
       "      <td>White</td>\n",
       "      <td>Summer</td>\n",
       "      <td>2011.0</td>\n",
       "      <td>Casual</td>\n",
       "      <td>Nike Men's Air Force White Orange Shoe</td>\n",
       "    </tr>\n",
       "    <tr>\n",
       "      <th>44419</th>\n",
       "      <td>17036</td>\n",
       "      <td>Men</td>\n",
       "      <td>Footwear</td>\n",
       "      <td>Shoes</td>\n",
       "      <td>Casual Shoes</td>\n",
       "      <td>White</td>\n",
       "      <td>Summer</td>\n",
       "      <td>2013.0</td>\n",
       "      <td>Casual</td>\n",
       "      <td>Gas Men Caddy Casual Shoe</td>\n",
       "    </tr>\n",
       "  </tbody>\n",
       "</table>\n",
       "<p>434 rows × 10 columns</p>\n",
       "</div>"
      ],
      "text/plain": [
       "          id  gender masterCategory subCategory   articleType baseColour  \\\n",
       "33     39988     Men       Footwear       Shoes  Casual Shoes      White   \n",
       "102    19311     Men       Footwear       Shoes  Casual Shoes      White   \n",
       "155    24250     Men       Footwear       Shoes  Casual Shoes      White   \n",
       "252    22705     Men       Footwear       Shoes  Casual Shoes      White   \n",
       "627    30233     Men       Footwear       Shoes  Casual Shoes      White   \n",
       "...      ...     ...            ...         ...           ...        ...   \n",
       "44250  41445     Men       Footwear       Shoes  Casual Shoes      White   \n",
       "44317  44761     Men       Footwear       Shoes  Casual Shoes      White   \n",
       "44374  24670  Unisex       Footwear       Shoes  Casual Shoes      White   \n",
       "44385   6653     Men       Footwear       Shoes  Casual Shoes      White   \n",
       "44419  17036     Men       Footwear       Shoes  Casual Shoes      White   \n",
       "\n",
       "       season    year   usage                         productDisplayName  \n",
       "33     Winter  2014.0  Casual                 Gas Men Europa White Shoes  \n",
       "102      Fall  2011.0  Casual    Nike Men Air Rift MTR White Casual Shoe  \n",
       "155      Fall  2012.0  Casual          Numero Uno Men White Casual Shoes  \n",
       "252      Fall  2011.0  Casual        Nike Men White Capri II Casual Shoe  \n",
       "627    Summer  2012.0  Casual                 Numero Uno Men White Shoes  \n",
       "...       ...     ...     ...                                        ...  \n",
       "44250  Summer  2012.0  Casual       Lee Cooper Men White Lifestyle Shoes  \n",
       "44317  Summer  2012.0  Casual            Globalite Men White Court Shoes  \n",
       "44374    Fall  2010.0  Casual  Converse Unisex Floral Print Casual Shoes  \n",
       "44385  Summer  2011.0  Casual     Nike Men's Air Force White Orange Shoe  \n",
       "44419  Summer  2013.0  Casual                  Gas Men Caddy Casual Shoe  \n",
       "\n",
       "[434 rows x 10 columns]"
      ]
     },
     "execution_count": 5,
     "metadata": {},
     "output_type": "execute_result"
    }
   ],
   "source": [
    "shoes = styles_df[(styles_df[\"articleType\"] == \"Casual Shoes\") & (styles_df[\"baseColour\"] == \"White\")]\n",
    "shoes"
   ]
  },
  {
   "cell_type": "code",
   "execution_count": 6,
   "id": "9202a2f3",
   "metadata": {
    "execution": {
     "iopub.execute_input": "2023-08-20T14:32:27.973807Z",
     "iopub.status.busy": "2023-08-20T14:32:27.973386Z",
     "iopub.status.idle": "2023-08-20T14:32:28.063075Z",
     "shell.execute_reply": "2023-08-20T14:32:28.061517Z"
    },
    "papermill": {
     "duration": 0.100766,
     "end_time": "2023-08-20T14:32:28.066375",
     "exception": false,
     "start_time": "2023-08-20T14:32:27.965609",
     "status": "completed"
    },
    "tags": []
   },
   "outputs": [],
   "source": [
    "# Generate image URLs for each matching item\n",
    "image_urls = []\n",
    "for index in range(len(shoes)):\n",
    "    item = shoes.iloc[index,:] \n",
    "    image_urls.append(f\"/kaggle/input/fashion-product-images-dataset/fashion-dataset/images/{item['id']}.jpg\")"
   ]
  },
  {
   "cell_type": "code",
   "execution_count": 7,
   "id": "efb0a716",
   "metadata": {
    "execution": {
     "iopub.execute_input": "2023-08-20T14:32:28.081630Z",
     "iopub.status.busy": "2023-08-20T14:32:28.081189Z",
     "iopub.status.idle": "2023-08-20T14:32:34.168702Z",
     "shell.execute_reply": "2023-08-20T14:32:34.167171Z"
    },
    "papermill": {
     "duration": 6.099051,
     "end_time": "2023-08-20T14:32:34.172032",
     "exception": false,
     "start_time": "2023-08-20T14:32:28.072981",
     "status": "completed"
    },
    "tags": []
   },
   "outputs": [],
   "source": [
    "from IPython.display import Image, display\n",
    "# # Generate image URLs for each matching item\n",
    "# image_urls = [f\"/kaggle/input/fashion-product-images-dataset/fashion-dataset/images/{item['id']}.jpg\" for item in shoes]\n",
    "\n",
    "# Display the images using the Image class\n",
    "images = [Image(url) for url in image_urls]\n",
    "\n",
    "# Display the images\n",
    "for img in images:\n",
    "#     display(img)\n",
    "    break"
   ]
  },
  {
   "cell_type": "code",
   "execution_count": 8,
   "id": "2015d8a8",
   "metadata": {
    "execution": {
     "iopub.execute_input": "2023-08-20T14:32:34.187805Z",
     "iopub.status.busy": "2023-08-20T14:32:34.186393Z",
     "iopub.status.idle": "2023-08-20T14:32:35.307301Z",
     "shell.execute_reply": "2023-08-20T14:32:35.305480Z"
    },
    "papermill": {
     "duration": 1.132043,
     "end_time": "2023-08-20T14:32:35.310673",
     "exception": false,
     "start_time": "2023-08-20T14:32:34.178630",
     "status": "completed"
    },
    "tags": []
   },
   "outputs": [],
   "source": [
    "!mkdir resized"
   ]
  },
  {
   "cell_type": "code",
   "execution_count": 9,
   "id": "090dfbb4",
   "metadata": {
    "execution": {
     "iopub.execute_input": "2023-08-20T14:32:35.326046Z",
     "iopub.status.busy": "2023-08-20T14:32:35.325461Z",
     "iopub.status.idle": "2023-08-20T14:32:35.333733Z",
     "shell.execute_reply": "2023-08-20T14:32:35.332677Z"
    },
    "papermill": {
     "duration": 0.019559,
     "end_time": "2023-08-20T14:32:35.336361",
     "exception": false,
     "start_time": "2023-08-20T14:32:35.316802",
     "status": "completed"
    },
    "tags": []
   },
   "outputs": [],
   "source": [
    "import glob\n",
    "\n",
    "files = glob.glob('./resized/*')\n",
    "for f in files:\n",
    "    os.remove(f)"
   ]
  },
  {
   "cell_type": "code",
   "execution_count": 10,
   "id": "e8320163",
   "metadata": {
    "execution": {
     "iopub.execute_input": "2023-08-20T14:32:35.351699Z",
     "iopub.status.busy": "2023-08-20T14:32:35.350742Z",
     "iopub.status.idle": "2023-08-20T14:32:57.033139Z",
     "shell.execute_reply": "2023-08-20T14:32:57.031385Z"
    },
    "papermill": {
     "duration": 21.69409,
     "end_time": "2023-08-20T14:32:57.036708",
     "exception": false,
     "start_time": "2023-08-20T14:32:35.342618",
     "status": "completed"
    },
    "tags": []
   },
   "outputs": [],
   "source": [
    "import cv2\n",
    "\n",
    "# input image dimensions\n",
    "img_rows, img_cols = 512,512\n",
    "\n",
    "for file in image_urls:\n",
    "    filename = file.split('/')[-1]\n",
    "    im = cv2.imread(file)   \n",
    "    img = cv2.resize(im,(img_rows,img_cols))\n",
    "    cv2.imwrite(\"./resized/shoes_\" + filename,img)\n",
    "    "
   ]
  },
  {
   "cell_type": "code",
   "execution_count": 11,
   "id": "60e814fd",
   "metadata": {
    "execution": {
     "iopub.execute_input": "2023-08-20T14:32:57.052138Z",
     "iopub.status.busy": "2023-08-20T14:32:57.051701Z",
     "iopub.status.idle": "2023-08-20T14:32:57.059785Z",
     "shell.execute_reply": "2023-08-20T14:32:57.058303Z"
    },
    "papermill": {
     "duration": 0.019066,
     "end_time": "2023-08-20T14:32:57.062597",
     "exception": false,
     "start_time": "2023-08-20T14:32:57.043531",
     "status": "completed"
    },
    "tags": []
   },
   "outputs": [],
   "source": [
    "import os\n",
    "import subprocess\n",
    "from IPython.display import FileLink, display\n",
    "\n",
    "def download_file(path, download_file_name):\n",
    "    os.chdir('/kaggle/working/')\n",
    "    zip_name = f\"/kaggle/working/{download_file_name}.zip\"\n",
    "    command = f\"zip {zip_name} {path} -r\"\n",
    "    result = subprocess.run(command, shell=True, capture_output=True, text=True)\n",
    "    if result.returncode != 0:\n",
    "        print(\"Unable to run zip command!\")\n",
    "        print(result.stderr)\n",
    "        return\n",
    "    display(FileLink(f'{download_file_name}.zip'))"
   ]
  },
  {
   "cell_type": "code",
   "execution_count": 12,
   "id": "5b6bb013",
   "metadata": {
    "execution": {
     "iopub.execute_input": "2023-08-20T14:32:57.079772Z",
     "iopub.status.busy": "2023-08-20T14:32:57.079378Z",
     "iopub.status.idle": "2023-08-20T14:32:57.690814Z",
     "shell.execute_reply": "2023-08-20T14:32:57.689642Z"
    },
    "papermill": {
     "duration": 0.624683,
     "end_time": "2023-08-20T14:32:57.694575",
     "exception": false,
     "start_time": "2023-08-20T14:32:57.069892",
     "status": "completed"
    },
    "tags": []
   },
   "outputs": [
    {
     "data": {
      "text/html": [
       "<a href='resized2.zip' target='_blank'>resized2.zip</a><br>"
      ],
      "text/plain": [
       "/kaggle/working/resized2.zip"
      ]
     },
     "metadata": {},
     "output_type": "display_data"
    }
   ],
   "source": [
    "download_file(\".\", \"resized2\")"
   ]
  },
  {
   "cell_type": "code",
   "execution_count": null,
   "id": "f6037703",
   "metadata": {
    "papermill": {
     "duration": 0.008536,
     "end_time": "2023-08-20T14:32:57.711895",
     "exception": false,
     "start_time": "2023-08-20T14:32:57.703359",
     "status": "completed"
    },
    "tags": []
   },
   "outputs": [],
   "source": []
  }
 ],
 "metadata": {
  "kernelspec": {
   "display_name": "Python 3",
   "language": "python",
   "name": "python3"
  },
  "language_info": {
   "codemirror_mode": {
    "name": "ipython",
    "version": 3
   },
   "file_extension": ".py",
   "mimetype": "text/x-python",
   "name": "python",
   "nbconvert_exporter": "python",
   "pygments_lexer": "ipython3",
   "version": "3.10.12"
  },
  "papermill": {
   "default_parameters": {},
   "duration": 47.823431,
   "end_time": "2023-08-20T14:32:58.946438",
   "environment_variables": {},
   "exception": null,
   "input_path": "__notebook__.ipynb",
   "output_path": "__notebook__.ipynb",
   "parameters": {},
   "start_time": "2023-08-20T14:32:11.123007",
   "version": "2.4.0"
  }
 },
 "nbformat": 4,
 "nbformat_minor": 5
}
